{
  "nbformat": 4,
  "nbformat_minor": 0,
  "metadata": {
    "colab": {
      "name": "Capital Allocation.ipynb",
      "provenance": [],
      "collapsed_sections": [],
      "authorship_tag": "ABX9TyMPOQGrKJVXL7t3JA7hInNO",
      "include_colab_link": true
    },
    "kernelspec": {
      "name": "python3",
      "display_name": "Python 3"
    }
  },
  "cells": [
    {
      "cell_type": "markdown",
      "metadata": {
        "id": "view-in-github",
        "colab_type": "text"
      },
      "source": [
        "<a href=\"https://colab.research.google.com/github/itsmevidhyak/Research-Stuff/blob/master/Capital_Allocation.ipynb\" target=\"_parent\"><img src=\"https://colab.research.google.com/assets/colab-badge.svg\" alt=\"Open In Colab\"/></a>"
      ]
    },
    {
      "cell_type": "markdown",
      "metadata": {
        "id": "NZP-NuoobOU9",
        "colab_type": "text"
      },
      "source": [
        "## Capital Allocation Methodology\n",
        "\n",
        "The objective is to understand how capital allocation works using Covariance Allocation principle and to see how the diversification credits materialise when the capital is allocated using Top-down approach."
      ]
    },
    {
      "cell_type": "code",
      "metadata": {
        "id": "Lh5ea9OCpnjo",
        "colab_type": "code",
        "outputId": "e901c207-0e0f-48c7-b133-57296c676c88",
        "colab": {
          "base_uri": "https://localhost:8080/",
          "height": 121
        }
      },
      "source": [
        "# Import packages\n",
        "import collections\n",
        "import matplotlib.pyplot as plt\n",
        "from __future__ import absolute_import, division, print_function, unicode_literals\n",
        "import os\n",
        "import seaborn as sns\n",
        "import numpy as np\n",
        "import pandas as pd\n",
        "\n",
        "\n",
        "# For this notebook keep the version at tf 1.15.0\n",
        "import tensorflow as tf\n",
        "import tensorflow_probability as tfp\n",
        "tfd = tfp.distributions\n",
        "\n",
        "try:\n",
        "  tf.compat.v1.enable_eager_execution()\n",
        "except ValueError:\n",
        "  pass\n",
        "\n",
        "print(tf.__version__)\n",
        "print(tfp.__version__)\n",
        "tf.executing_eagerly()\n"
      ],
      "execution_count": 1,
      "outputs": [
        {
          "output_type": "display_data",
          "data": {
            "text/html": [
              "<p style=\"color: red;\">\n",
              "The default version of TensorFlow in Colab will soon switch to TensorFlow 2.x.<br>\n",
              "We recommend you <a href=\"https://www.tensorflow.org/guide/migrate\" target=\"_blank\">upgrade</a> now \n",
              "or ensure your notebook will continue to use TensorFlow 1.x via the <code>%tensorflow_version 1.x</code> magic:\n",
              "<a href=\"https://colab.research.google.com/notebooks/tensorflow_version.ipynb\" target=\"_blank\">more info</a>.</p>\n"
            ],
            "text/plain": [
              "<IPython.core.display.HTML object>"
            ]
          },
          "metadata": {
            "tags": []
          }
        },
        {
          "output_type": "stream",
          "text": [
            "1.15.0\n",
            "0.7.0\n"
          ],
          "name": "stdout"
        },
        {
          "output_type": "execute_result",
          "data": {
            "text/plain": [
              "True"
            ]
          },
          "metadata": {
            "tags": []
          },
          "execution_count": 1
        }
      ]
    },
    {
      "cell_type": "code",
      "metadata": {
        "id": "ZDQOSCxCrAEC",
        "colab_type": "code",
        "outputId": "c4e4286f-250b-4c44-e78c-5f2116acf67d",
        "colab": {
          "base_uri": "https://localhost:8080/",
          "height": 761
        }
      },
      "source": [
        "# Simulate losses from 3 sub portfolios\n",
        "lob1, lob2, lob3 = [ tfd.Gamma(concentration = 77000, rate = 1.0/5.0),\n",
        "                     tfd.Pareto(concentration = 70.0, scale = 150000),\n",
        "                     tfd.LogNormal(loc = 11.5, scale = 0.19804)]\n",
        "# Draw samples and plot them\n",
        "sns.distplot(lob1.sample(100).numpy().ravel())\n",
        "plt.show()\n",
        "sns.distplot(lob2.sample(100).numpy().ravel())\n",
        "plt.show()\n",
        "sns.distplot(lob3.sample(100).numpy().ravel())\n",
        "plt.show()"
      ],
      "execution_count": 2,
      "outputs": [
        {
          "output_type": "display_data",
          "data": {
            "image/png": "[encoded data removed]",
            "text/plain": [
              "<Figure size 432x288 with 1 Axes>"
            ]
          },
          "metadata": {
            "tags": []
          }
        },
        {
          "output_type": "display_data",
          "data": {
            "image/png": "[encoded data removed]",
            "text/plain": [
              "<Figure size 432x288 with 1 Axes>"
            ]
          },
          "metadata": {
            "tags": []
          }
        },
        {
          "output_type": "display_data",
          "data": {
            "image/png": "[encoded data removed]",
            "text/plain": [
              "<Figure size 432x288 with 1 Axes>"
            ]
          },
          "metadata": {
            "tags": []
          }
        }
      ]
    },
    {
      "cell_type": "code",
      "metadata": {
        "id": "H67e6FCH3SNl",
        "colab_type": "code",
        "outputId": "3062dd5f-0c9d-4f8f-f850-1f799bfe5a06",
        "colab": {
          "base_uri": "https://localhost:8080/",
          "height": 73
        }
      },
      "source": [
        "# Judge whether the lob samples are in the range as wanted\n",
        "lob3.sample(10).numpy().ravel()"
      ],
      "execution_count": 3,
      "outputs": [
        {
          "output_type": "execute_result",
          "data": {
            "text/plain": [
              "array([102606.37 , 118070.15 , 109456.234, 106388.516, 131299.77 ,\n",
              "       112531.24 ,  99664.55 ,  79836.336,  76377.21 , 101208.945],\n",
              "      dtype=float32)"
            ]
          },
          "metadata": {
            "tags": []
          },
          "execution_count": 3
        }
      ]
    },
    {
      "cell_type": "code",
      "metadata": {
        "id": "YzCMM5sG5S7L",
        "colab_type": "code",
        "outputId": "1ae85bf9-3d24-4380-a334-f6282bbedded",
        "colab": {
          "base_uri": "https://localhost:8080/",
          "height": 424
        }
      },
      "source": [
        "# Combine all losses from all lobs to a single dataframe\n",
        "Loss_on_Lob1 = pd.DataFrame(lob1.sample(100).numpy().ravel())\n",
        "Loss_on_Lob2 = pd.DataFrame(lob2.sample(100).numpy().ravel())\n",
        "Loss_on_Lob3 = pd.DataFrame(lob3.sample(100).numpy().ravel())\n",
        "All_Loss = pd.concat([Loss_on_Lob1, Loss_on_Lob2, Loss_on_Lob3], axis = 1)\n",
        "names = ['EL', 'MA', 'PI']\n",
        "All_Loss.columns = names\n",
        "All_Loss"
      ],
      "execution_count": 4,
      "outputs": [
        {
          "output_type": "execute_result",
          "data": {
            "text/html": [
              "<div>\n",
              "<style scoped>\n",
              "    .dataframe tbody tr th:only-of-type {\n",
              "        vertical-align: middle;\n",
              "    }\n",
              "\n",
              "    .dataframe tbody tr th {\n",
              "        vertical-align: top;\n",
              "    }\n",
              "\n",
              "    .dataframe thead th {\n",
              "        text-align: right;\n",
              "    }\n",
              "</style>\n",
              "<table border=\"1\" class=\"dataframe\">\n",
              "  <thead>\n",
              "    <tr style=\"text-align: right;\">\n",
              "      <th></th>\n",
              "      <th>EL</th>\n",
              "      <th>MA</th>\n",
              "      <th>PI</th>\n",
              "    </tr>\n",
              "  </thead>\n",
              "  <tbody>\n",
              "    <tr>\n",
              "      <th>0</th>\n",
              "      <td>382777.81250</td>\n",
              "      <td>150377.078125</td>\n",
              "      <td>85764.679688</td>\n",
              "    </tr>\n",
              "    <tr>\n",
              "      <th>1</th>\n",
              "      <td>385678.62500</td>\n",
              "      <td>158537.468750</td>\n",
              "      <td>93961.968750</td>\n",
              "    </tr>\n",
              "    <tr>\n",
              "      <th>2</th>\n",
              "      <td>384171.12500</td>\n",
              "      <td>154275.312500</td>\n",
              "      <td>113635.671875</td>\n",
              "    </tr>\n",
              "    <tr>\n",
              "      <th>3</th>\n",
              "      <td>386570.15625</td>\n",
              "      <td>151474.859375</td>\n",
              "      <td>62813.660156</td>\n",
              "    </tr>\n",
              "    <tr>\n",
              "      <th>4</th>\n",
              "      <td>385653.65625</td>\n",
              "      <td>150161.968750</td>\n",
              "      <td>96262.984375</td>\n",
              "    </tr>\n",
              "    <tr>\n",
              "      <th>...</th>\n",
              "      <td>...</td>\n",
              "      <td>...</td>\n",
              "      <td>...</td>\n",
              "    </tr>\n",
              "    <tr>\n",
              "      <th>95</th>\n",
              "      <td>383508.43750</td>\n",
              "      <td>150054.312500</td>\n",
              "      <td>129728.492188</td>\n",
              "    </tr>\n",
              "    <tr>\n",
              "      <th>96</th>\n",
              "      <td>384460.84375</td>\n",
              "      <td>152817.296875</td>\n",
              "      <td>99081.625000</td>\n",
              "    </tr>\n",
              "    <tr>\n",
              "      <th>97</th>\n",
              "      <td>387425.75000</td>\n",
              "      <td>158144.718750</td>\n",
              "      <td>114180.242188</td>\n",
              "    </tr>\n",
              "    <tr>\n",
              "      <th>98</th>\n",
              "      <td>385063.81250</td>\n",
              "      <td>151357.750000</td>\n",
              "      <td>91533.859375</td>\n",
              "    </tr>\n",
              "    <tr>\n",
              "      <th>99</th>\n",
              "      <td>384145.84375</td>\n",
              "      <td>152091.937500</td>\n",
              "      <td>94824.546875</td>\n",
              "    </tr>\n",
              "  </tbody>\n",
              "</table>\n",
              "<p>100 rows × 3 columns</p>\n",
              "</div>"
            ],
            "text/plain": [
              "              EL             MA             PI\n",
              "0   382777.81250  150377.078125   85764.679688\n",
              "1   385678.62500  158537.468750   93961.968750\n",
              "2   384171.12500  154275.312500  113635.671875\n",
              "3   386570.15625  151474.859375   62813.660156\n",
              "4   385653.65625  150161.968750   96262.984375\n",
              "..           ...            ...            ...\n",
              "95  383508.43750  150054.312500  129728.492188\n",
              "96  384460.84375  152817.296875   99081.625000\n",
              "97  387425.75000  158144.718750  114180.242188\n",
              "98  385063.81250  151357.750000   91533.859375\n",
              "99  384145.84375  152091.937500   94824.546875\n",
              "\n",
              "[100 rows x 3 columns]"
            ]
          },
          "metadata": {
            "tags": []
          },
          "execution_count": 4
        }
      ]
    },
    {
      "cell_type": "code",
      "metadata": {
        "id": "F25oJmF68IaV",
        "colab_type": "code",
        "outputId": "5fa54469-b226-434d-c928-fdebf0bc9000",
        "colab": {
          "base_uri": "https://localhost:8080/",
          "height": 284
        }
      },
      "source": [
        "# Calculate Aggregate Capital\n",
        "Aggregate_Losses = All_Loss.sum(axis = 1)\n",
        "sns.distplot(Aggregate_Losses)\n",
        "\n",
        "# Assuming I am going to set aside a capital at 99.5th percentile of losses\n",
        "Aggregate_Capital = np.quantile(Aggregate_Losses, 0.995)\n",
        "Aggregate_Capital"
      ],
      "execution_count": 5,
      "outputs": [
        {
          "output_type": "execute_result",
          "data": {
            "text/plain": [
              "679307.326875"
            ]
          },
          "metadata": {
            "tags": []
          },
          "execution_count": 5
        },
        {
          "output_type": "display_data",
          "data": {
            "image/png": "[encoded data removed]",
            "text/plain": [
              "<Figure size 432x288 with 1 Axes>"
            ]
          },
          "metadata": {
            "tags": []
          }
        }
      ]
    },
    {
      "cell_type": "code",
      "metadata": {
        "id": "wZRPBHbdFCNG",
        "colab_type": "code",
        "outputId": "79657d0b-9a11-46c9-af23-57662148d0a3",
        "colab": {
          "base_uri": "https://localhost:8080/",
          "height": 36
        }
      },
      "source": [
        "# Check how much capital we will receive if we allocate without diversification\n",
        "Capital_1 = np.quantile(Loss_on_Lob1, 0.995)\n",
        "Capital_2 = np.quantile(Loss_on_Lob2, 0.995)\n",
        "Capital_3 = np.quantile(Loss_on_Lob3, 0.995)\n",
        "k = [Capital_1, Capital_2, Capital_3]\n",
        "k\n",
        "np.sum(k)"
      ],
      "execution_count": 6,
      "outputs": [
        {
          "output_type": "execute_result",
          "data": {
            "text/plain": [
              "692533.9560156249"
            ]
          },
          "metadata": {
            "tags": []
          },
          "execution_count": 6
        }
      ]
    },
    {
      "cell_type": "markdown",
      "metadata": {
        "id": "769MZrIwF818",
        "colab_type": "text"
      },
      "source": [
        "## Model\n",
        "\n",
        "We will use Covariance allocation principle. Let us assume the purpose of the allocation exercise is to rank the business units according to levels\n",
        "of profitability.\n",
        "\n",
        "Reference: https://www.researchgate.net/publication/24046637_Optimal_capital_allocation_principles\n",
        "\n",
        "Let $S$ be the aggregate loss in a portfolio of $n$ individual losses $X_1, X_2, ..., X_n$ expected to materialise at a future time horizon, say time $T$. Assume $X_i$ be the loss faced by the business unit $i$.\n",
        "\n",
        "Let Aggregate Loss be, \n",
        "\n",
        "$$ S =  \\Sigma_{i = 1}^{n} X_i$$\n",
        "\n",
        "Let the Aggregate Capital determined by the company be,\n",
        "\n",
        "$$ K =  \\Sigma_{i = 1}^{n} K_i$$\n",
        "\n",
        "where $K_i$ is the capital to be allocated to $i^{th}$ loss. $K$ is termed as full allocation requirement. \n",
        "\n",
        "By virtue of covariance allocation principle by Overbeck (2000), \n",
        "\n",
        "$$K_i = \\frac {K} {Var[S]} . Cov (X_i, S), \\ \\ \\ \\ i = 1, 2, ..., n $$\n",
        "\n",
        "where $Cov (X_i, S) $ is the covariance between the individual loss $X_i$ and the aggregate loss $S$ and $Var[S] $ is the variance of the aggregate loss $S$.\n",
        "\n",
        "Because the sum of these individual covariances is equal to the variance of the aggregate loss, the full allocation requirement is automatically satisfied in this case.\n",
        "\n",
        "One important advantage of the covariance allocation principle is that, it explicitly takes into account the dependence structure of the random losses $X_1 ,X_2 ,...,X_n $. Business units with a loss that is more correlated with the aggregate portfolio loss $S$ are penalised by requiring them to hold a larger amount of capital than those which are less correlated."
      ]
    },
    {
      "cell_type": "code",
      "metadata": {
        "id": "mCFCPNwgMxE4",
        "colab_type": "code",
        "outputId": "bb8a55a3-72f4-49d8-c92e-803846657eed",
        "colab": {
          "base_uri": "https://localhost:8080/",
          "height": 36
        }
      },
      "source": [
        "# Implementation of the model\n",
        "\n",
        "K = Aggregate_Capital\n",
        "Loss = np.matrix(All_Loss)\n",
        "S = np.matrix(Aggregate_Losses)\n",
        "\n",
        "def mean(x):\n",
        "    return sum(x) / len(x)\n",
        "\n",
        "def cov(x, y):\n",
        "    x_mean = mean(x)\n",
        "    y_mean = mean(y)\n",
        "    data = [(x[i] - x_mean) * (y[i] - y_mean)\n",
        "            for i in range(len(x))]\n",
        "    return sum(data) / (len(data) - 1)\n",
        "\n",
        "cov1 = cov(Loss[:,0], S.T)\n",
        "cov2 = cov(Loss[:,1], S.T)\n",
        "cov3 = cov(Loss[:,2], S.T)\n",
        "\n",
        "Total_cov = np.concatenate((cov1, cov2, cov3))\n",
        "\n",
        "K_i = (K / np.var(S)) * Total_cov\n",
        "K_i\n",
        "\n",
        "# Sense check whether there is a diversification benefit materialised from the capital allocation\n",
        "if np.sum(K_i) < np.sum(k): print(np.sum(k) - np.sum(K_i))"
      ],
      "execution_count": 7,
      "outputs": [
        {
          "output_type": "stream",
          "text": [
            "6365.018515624921\n"
          ],
          "name": "stdout"
        }
      ]
    },
    {
      "cell_type": "code",
      "metadata": {
        "id": "76glX5F4sLNp",
        "colab_type": "code",
        "colab": {
          "base_uri": "https://localhost:8080/",
          "height": 36
        },
        "outputId": "f149e179-ac92-4c71-dfa4-6804cb7a7673"
      },
      "source": [
        "np.sum(K_i)"
      ],
      "execution_count": 10,
      "outputs": [
        {
          "output_type": "execute_result",
          "data": {
            "text/plain": [
              "686168.94"
            ]
          },
          "metadata": {
            "tags": []
          },
          "execution_count": 10
        }
      ]
    },
    {
      "cell_type": "code",
      "metadata": {
        "id": "O4IYs-DClAcJ",
        "colab_type": "code",
        "colab": {
          "base_uri": "https://localhost:8080/",
          "height": 110
        },
        "outputId": "b02a1af9-2bd5-4a65-f8f3-a19885f38e41"
      },
      "source": [
        "# Remember our purpose is to rank the Lobs based on the level of profitability\n",
        "K_i = sorted(K_i)\n",
        "\n",
        "# Order of LOBs from highest to lowest of the capital\n",
        "from tabulate import tabulate\n",
        "print(tabulate([['MA', int(K_i[0]), 1], ['EL', int(K_i[1]), 2], ['PI', int(K_i[2]), 3]], headers=['Line of Business', 'Capital Allocated', 'Rank']))"
      ],
      "execution_count": 9,
      "outputs": [
        {
          "output_type": "stream",
          "text": [
            "Line of Business      Capital Allocated    Rank\n",
            "------------------  -------------------  ------\n",
            "MA                                 1054       1\n",
            "EL                                 2615       2\n",
            "PI                               682498       3\n"
          ],
          "name": "stdout"
        }
      ]
    },
    {
      "cell_type": "markdown",
      "metadata": {
        "id": "D0GVu2tjbp43",
        "colab_type": "text"
      },
      "source": [
        "## Conclusion\n",
        "\n",
        "As we can see above, had we analysed the losses separately for the three portfolios, we would have set aside a capital of 692534 units at 99.5th percentile level. When the top-down approach using Covariance allocation principle is used, we experienced a diversification benefit of 6365 units. \n",
        "\n",
        "Note: The figures mentioned in the conclusion is subject to change when the run time is restarted and rerunning happens."
      ]
    }
  ]
}