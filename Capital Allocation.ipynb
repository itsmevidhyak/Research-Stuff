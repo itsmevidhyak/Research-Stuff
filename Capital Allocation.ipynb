{
  "nbformat": 4,
  "nbformat_minor": 0,
  "metadata": {
    "colab": {
      "name": "Untitled6.ipynb",
      "provenance": [],
      "collapsed_sections": [],
      "authorship_tag": "ABX9TyN4M7LnRkwU8tRAvHb7uq2L",
      "include_colab_link": true
    },
    "kernelspec": {
      "name": "python3",
      "display_name": "Python 3"
    }
  },
  "cells": [
    {
      "cell_type": "markdown",
      "metadata": {
        "id": "view-in-github",
        "colab_type": "text"
      },
      "source": [
        "<a href=\"https://colab.research.google.com/github/itsmevidhyak/Research-Stuff/blob/master/Capital%20Allocation.ipynb\" target=\"_parent\"><img src=\"https://colab.research.google.com/assets/colab-badge.svg\" alt=\"Open In Colab\"/></a>"
      ]
    },
    {
      "cell_type": "code",
      "metadata": {
        "id": "Lh5ea9OCpnjo",
        "colab_type": "code",
        "colab": {
          "base_uri": "https://localhost:8080/",
          "height": 121
        },
        "outputId": "2787e358-58fa-457b-f375-d3452a759768"
      },
      "source": [
        "# Import packages\n",
        "import collections\n",
        "import matplotlib.pyplot as plt\n",
        "from __future__ import absolute_import, division, print_function, unicode_literals\n",
        "import os\n",
        "import seaborn as sns\n",
        "import numpy as np\n",
        "\n",
        "import tensorflow as tf\n",
        "import tensorflow_probability as tfp\n",
        "tfd = tfp.distributions\n",
        "\n",
        "try:\n",
        "  tf.compat.v1.enable_eager_execution()\n",
        "except ValueError:\n",
        "  pass\n",
        "\n",
        "print(tf.__version__)\n",
        "print(tfp.__version__)\n",
        "tf.executing_eagerly()\n"
      ],
      "execution_count": 1,
      "outputs": [
        {
          "output_type": "display_data",
          "data": {
            "text/html": [
              "<p style=\"color: red;\">\n",
              "The default version of TensorFlow in Colab will soon switch to TensorFlow 2.x.<br>\n",
              "We recommend you <a href=\"https://www.tensorflow.org/guide/migrate\" target=\"_blank\">upgrade</a> now \n",
              "or ensure your notebook will continue to use TensorFlow 1.x via the <code>%tensorflow_version 1.x</code> magic:\n",
              "<a href=\"https://colab.research.google.com/notebooks/tensorflow_version.ipynb\" target=\"_blank\">more info</a>.</p>\n"
            ],
            "text/plain": [
              "<IPython.core.display.HTML object>"
            ]
          },
          "metadata": {
            "tags": []
          }
        },
        {
          "output_type": "stream",
          "text": [
            "1.15.0\n",
            "0.7.0\n"
          ],
          "name": "stdout"
        },
        {
          "output_type": "execute_result",
          "data": {
            "text/plain": [
              "True"
            ]
          },
          "metadata": {
            "tags": []
          },
          "execution_count": 1
        }
      ]
    },
    {
      "cell_type": "code",
      "metadata": {
        "id": "Pw4_CYeU5OkM",
        "colab_type": "code",
        "colab": {}
      },
      "source": [
        "import pandas as pd"
      ],
      "execution_count": 0,
      "outputs": []
    },
    {
      "cell_type": "code",
      "metadata": {
        "id": "ZDQOSCxCrAEC",
        "colab_type": "code",
        "colab": {
          "base_uri": "https://localhost:8080/",
          "height": 761
        },
        "outputId": "7a452665-cdaf-410c-f261-8da6603341e5"
      },
      "source": [
        "# Simulate 3 sub portfolios from log normal distribution with mean = 10, sigma = 3.5\n",
        "lob1, lob2, lob3 = [ tfd.Gamma(concentration = 77000, rate = 1.0/5.0),\n",
        "                     tfd.Pareto(concentration = 70.0, scale = 150000),\n",
        "                     tfd.LogNormal(loc = 11.5, scale = 0.19804)]\n",
        "# Draw samples and plot them\n",
        "sns.distplot(lob1.sample(100).numpy().ravel())\n",
        "plt.show()\n",
        "sns.distplot(lob2.sample(100).numpy().ravel())\n",
        "plt.show()\n",
        "sns.distplot(lob3.sample(100).numpy().ravel())\n",
        "plt.show()"
      ],
      "execution_count": 62,
      "outputs": [
        {
          "output_type": "display_data",
          "data": {
            "image/png": "[encoded data removed]",
            "text/plain": [
              "<Figure size 432x288 with 1 Axes>"
            ]
          },
          "metadata": {
            "tags": []
          }
        },
        {
          "output_type": "display_data",
          "data": {
            "image/png": "[encoded data removed]",
            "text/plain": [
              "<Figure size 432x288 with 1 Axes>"
            ]
          },
          "metadata": {
            "tags": []
          }
        },
        {
          "output_type": "display_data",
          "data": {
            "image/png": "[encoded data removed]",
            "text/plain": [
              "<Figure size 432x288 with 1 Axes>"
            ]
          },
          "metadata": {
            "tags": []
          }
        }
      ]
    },
    {
      "cell_type": "code",
      "metadata": {
        "id": "H67e6FCH3SNl",
        "colab_type": "code",
        "colab": {
          "base_uri": "https://localhost:8080/",
          "height": 73
        },
        "outputId": "8a544d50-3d9d-4687-b704-2621e5f8590f"
      },
      "source": [
        "lob3.sample(10).numpy().ravel()"
      ],
      "execution_count": 63,
      "outputs": [
        {
          "output_type": "execute_result",
          "data": {
            "text/plain": [
              "array([ 93664.05 , 100215.06 ,  87155.664, 113063.83 , 130006.79 ,\n",
              "        95920.625,  74323.445, 101356.914,  85718.32 , 101909.195],\n",
              "      dtype=float32)"
            ]
          },
          "metadata": {
            "tags": []
          },
          "execution_count": 63
        }
      ]
    },
    {
      "cell_type": "code",
      "metadata": {
        "id": "YzCMM5sG5S7L",
        "colab_type": "code",
        "colab": {
          "base_uri": "https://localhost:8080/",
          "height": 424
        },
        "outputId": "1b44f4a0-41ad-4ab8-8e5f-526b984dfa67"
      },
      "source": [
        "Loss_on_Lob1 = pd.DataFrame(lob1.sample(100).numpy().ravel())\n",
        "Loss_on_Lob2 = pd.DataFrame(lob2.sample(100).numpy().ravel())\n",
        "Loss_on_Lob3 = pd.DataFrame(lob3.sample(100).numpy().ravel())\n",
        "All_Loss = pd.concat([Loss_on_Lob1, Loss_on_Lob2, Loss_on_Lob3], axis = 1)\n",
        "names = ['EL', 'MA', 'PD']\n",
        "All_Loss.columns = names\n",
        "All_Loss"
      ],
      "execution_count": 80,
      "outputs": [
        {
          "output_type": "execute_result",
          "data": {
            "text/html": [
              "<div>\n",
              "<style scoped>\n",
              "    .dataframe tbody tr th:only-of-type {\n",
              "        vertical-align: middle;\n",
              "    }\n",
              "\n",
              "    .dataframe tbody tr th {\n",
              "        vertical-align: top;\n",
              "    }\n",
              "\n",
              "    .dataframe thead th {\n",
              "        text-align: right;\n",
              "    }\n",
              "</style>\n",
              "<table border=\"1\" class=\"dataframe\">\n",
              "  <thead>\n",
              "    <tr style=\"text-align: right;\">\n",
              "      <th></th>\n",
              "      <th>EL</th>\n",
              "      <th>MA</th>\n",
              "      <th>PD</th>\n",
              "    </tr>\n",
              "  </thead>\n",
              "  <tbody>\n",
              "    <tr>\n",
              "      <th>0</th>\n",
              "      <td>383795.68750</td>\n",
              "      <td>153404.437500</td>\n",
              "      <td>136751.031250</td>\n",
              "    </tr>\n",
              "    <tr>\n",
              "      <th>1</th>\n",
              "      <td>384544.96875</td>\n",
              "      <td>151659.015625</td>\n",
              "      <td>105205.921875</td>\n",
              "    </tr>\n",
              "    <tr>\n",
              "      <th>2</th>\n",
              "      <td>383435.59375</td>\n",
              "      <td>150162.968750</td>\n",
              "      <td>115847.765625</td>\n",
              "    </tr>\n",
              "    <tr>\n",
              "      <th>3</th>\n",
              "      <td>386179.84375</td>\n",
              "      <td>150976.437500</td>\n",
              "      <td>133610.843750</td>\n",
              "    </tr>\n",
              "    <tr>\n",
              "      <th>4</th>\n",
              "      <td>385866.43750</td>\n",
              "      <td>151763.328125</td>\n",
              "      <td>120658.187500</td>\n",
              "    </tr>\n",
              "    <tr>\n",
              "      <th>...</th>\n",
              "      <td>...</td>\n",
              "      <td>...</td>\n",
              "      <td>...</td>\n",
              "    </tr>\n",
              "    <tr>\n",
              "      <th>95</th>\n",
              "      <td>384552.31250</td>\n",
              "      <td>150091.093750</td>\n",
              "      <td>102041.062500</td>\n",
              "    </tr>\n",
              "    <tr>\n",
              "      <th>96</th>\n",
              "      <td>386273.25000</td>\n",
              "      <td>150174.296875</td>\n",
              "      <td>74819.625000</td>\n",
              "    </tr>\n",
              "    <tr>\n",
              "      <th>97</th>\n",
              "      <td>385209.68750</td>\n",
              "      <td>151188.234375</td>\n",
              "      <td>82399.367188</td>\n",
              "    </tr>\n",
              "    <tr>\n",
              "      <th>98</th>\n",
              "      <td>387667.96875</td>\n",
              "      <td>150278.156250</td>\n",
              "      <td>92862.414062</td>\n",
              "    </tr>\n",
              "    <tr>\n",
              "      <th>99</th>\n",
              "      <td>383091.12500</td>\n",
              "      <td>150589.625000</td>\n",
              "      <td>119508.531250</td>\n",
              "    </tr>\n",
              "  </tbody>\n",
              "</table>\n",
              "<p>100 rows × 3 columns</p>\n",
              "</div>"
            ],
            "text/plain": [
              "              EL             MA             PD\n",
              "0   383795.68750  153404.437500  136751.031250\n",
              "1   384544.96875  151659.015625  105205.921875\n",
              "2   383435.59375  150162.968750  115847.765625\n",
              "3   386179.84375  150976.437500  133610.843750\n",
              "4   385866.43750  151763.328125  120658.187500\n",
              "..           ...            ...            ...\n",
              "95  384552.31250  150091.093750  102041.062500\n",
              "96  386273.25000  150174.296875   74819.625000\n",
              "97  385209.68750  151188.234375   82399.367188\n",
              "98  387667.96875  150278.156250   92862.414062\n",
              "99  383091.12500  150589.625000  119508.531250\n",
              "\n",
              "[100 rows x 3 columns]"
            ]
          },
          "metadata": {
            "tags": []
          },
          "execution_count": 80
        }
      ]
    },
    {
      "cell_type": "code",
      "metadata": {
        "id": "F25oJmF68IaV",
        "colab_type": "code",
        "colab": {
          "base_uri": "https://localhost:8080/",
          "height": 284
        },
        "outputId": "39a8bd49-9cf6-4957-bd69-fc86a089ff0d"
      },
      "source": [
        "Aggregate_Losses = All_Loss.sum(axis = 1)\n",
        "sns.distplot(Aggregate_Losses)\n",
        "Aggregate_Capital = np.quantile(Aggregate_Losses, 0.995)\n",
        "Aggregate_Capital"
      ],
      "execution_count": 81,
      "outputs": [
        {
          "output_type": "execute_result",
          "data": {
            "text/plain": [
              "686653.8296874999"
            ]
          },
          "metadata": {
            "tags": []
          },
          "execution_count": 81
        },
        {
          "output_type": "display_data",
          "data": {
            "image/png": "[encoded data removed]",
            "text/plain": [
              "<Figure size 432x288 with 1 Axes>"
            ]
          },
          "metadata": {
            "tags": []
          }
        }
      ]
    },
    {
      "cell_type": "code",
      "metadata": {
        "id": "wZRPBHbdFCNG",
        "colab_type": "code",
        "colab": {
          "base_uri": "https://localhost:8080/",
          "height": 36
        },
        "outputId": "2c6b63a6-ade5-446c-dce8-b25a10620dfc"
      },
      "source": [
        "Capital_1 = np.quantile(Loss_on_Lob1, 0.995)\n",
        "Capital_2 = np.quantile(Loss_on_Lob2, 0.995)\n",
        "Capital_3 = np.quantile(Loss_on_Lob3, 0.995)\n",
        "k = [Capital_1, Capital_2, Capital_3]\n",
        "k\n",
        "np.sum(k)"
      ],
      "execution_count": 82,
      "outputs": [
        {
          "output_type": "execute_result",
          "data": {
            "text/plain": [
              "695336.2880468749"
            ]
          },
          "metadata": {
            "tags": []
          },
          "execution_count": 82
        }
      ]
    },
    {
      "cell_type": "markdown",
      "metadata": {
        "id": "769MZrIwF818",
        "colab_type": "text"
      },
      "source": [
        "## Model\n",
        "\n",
        "We will use Covariance allocation principle. Let us assume the purpose of the allocation exercise is to rank the business units according to levels\n",
        "of profitability.\n",
        "\n",
        "Reference: https://www.researchgate.net/publication/24046637_Optimal_capital_allocation_principles\n",
        "\n",
        "Let $S$ be the aggregate loss in a portfolio of $n$ individual losses $X_1, X_2, ..., X_n$ expected to materialise at a future time horizon, say time $T$. Assume $X_i$ be the loss faced by the business unit $i$.\n",
        "\n",
        "Let Aggregate Loss be, \n",
        "\n",
        "$$ S =  \\Sigma_{i = 1}^{n} X_i$$\n",
        "\n",
        "Let the Aggregate Capital determined by the company be,\n",
        "\n",
        "$$ K =  \\Sigma_{i = 1}^{n} K_i$$\n",
        "\n",
        "where $K_i$ is the capital to be allocated to $i^{th}$ loss. $K$ is termed as full allocation requirement. \n",
        "\n",
        "By virtue of covariance allocation principle by Overbeck (2000), \n",
        "\n",
        "$$K_i = \\frac {K} {Var[S]} . Cov (X_i, S), \\ \\ \\ \\ i = 1, 2, ..., n $$\n",
        "\n",
        "where $Cov (X_i, S) $ is the covariance between the individual loss $X_i$ and the aggregate loss $S$ and $Var[S] $ is the variance of the aggregate loss $S$.\n",
        "\n",
        "Because the sum of these individual covariances is equal to the variance of the aggregate loss, the full allocation requirement is automatically satisfied in this case.\n",
        "\n",
        "One important advantage of the covariance allocation principle is that, it explicitly takes into account the dependence structure of the random losses $X_1 ,X_2 ,...,X_n $. Business units with a loss that is more correlated with the aggregate portfolio loss $S$ are penalised by requiring them to hold a larger amount of capital than those which are less correlated."
      ]
    },
    {
      "cell_type": "code",
      "metadata": {
        "id": "mCFCPNwgMxE4",
        "colab_type": "code",
        "colab": {
          "base_uri": "https://localhost:8080/",
          "height": 36
        },
        "outputId": "8484283e-635e-4002-a20e-36be40ef96b5"
      },
      "source": [
        "K = Aggregate_Capital\n",
        "Loss = np.matrix(All_Loss)\n",
        "S = np.matrix(Aggregate_Losses)\n",
        "\n",
        "def mean(x):\n",
        "    return sum(x) / len(x)\n",
        "\n",
        "def cov(x, y):\n",
        "    x_mean = mean(x)\n",
        "    y_mean = mean(y)\n",
        "    data = [(x[i] - x_mean) * (y[i] - y_mean)\n",
        "            for i in range(len(x))]\n",
        "    return sum(data) / (len(data) - 1)\n",
        "\n",
        "cov1 = cov(Loss[:,0], S.T)\n",
        "cov2 = cov(Loss[:,1], S.T)\n",
        "cov3 = cov(Loss[:,2], S.T)\n",
        "\n",
        "Total_cov = np.concatenate((cov1, cov2, cov3))\n",
        "\n",
        "K_i = (K / np.var(S)) * Total_cov\n",
        "K_i\n",
        "\n",
        "# Sense check whether there is a diversification benefit from the capital allocation\n",
        "if np.sum(K_i) < np.sum(k): print(np.sum(k) - np.sum(K_i))"
      ],
      "execution_count": 136,
      "outputs": [
        {
          "output_type": "stream",
          "text": [
            "1746.7255468749208\n"
          ],
          "name": "stdout"
        }
      ]
    },
    {
      "cell_type": "code",
      "metadata": {
        "id": "Cl0vu0knUqFH",
        "colab_type": "code",
        "colab": {
          "base_uri": "https://localhost:8080/",
          "height": 36
        },
        "outputId": "9fb58a33-a092-40a0-ea4f-7094b4f81bac"
      },
      "source": [
        "K / np.var(S)"
      ],
      "execution_count": 128,
      "outputs": [
        {
          "output_type": "execute_result",
          "data": {
            "text/plain": [
              "0.0016289423522580654"
            ]
          },
          "metadata": {
            "tags": []
          },
          "execution_count": 128
        }
      ]
    },
    {
      "cell_type": "code",
      "metadata": {
        "id": "llyiHm8wUzR5",
        "colab_type": "code",
        "colab": {
          "base_uri": "https://localhost:8080/",
          "height": 36
        },
        "outputId": "54db1480-4d3a-498e-bfa2-0218ae7ab15c"
      },
      "source": [
        "type(cov1)"
      ],
      "execution_count": 131,
      "outputs": [
        {
          "output_type": "execute_result",
          "data": {
            "text/plain": [
              "numpy.matrix"
            ]
          },
          "metadata": {
            "tags": []
          },
          "execution_count": 131
        }
      ]
    }
  ]
}